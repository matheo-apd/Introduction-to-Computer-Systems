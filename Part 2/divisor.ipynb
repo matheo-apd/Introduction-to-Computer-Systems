{
  "nbformat": 4,
  "nbformat_minor": 0,
  "metadata": {
    "colab": {
      "name": "divisor.ipynb",
      "provenance": []
    },
    "kernelspec": {
      "name": "python3",
      "display_name": "Python 3"
    },
    "language_info": {
      "name": "python"
    }
  },
  "cells": [
    {
      "cell_type": "code",
      "execution_count": 14,
      "metadata": {
        "colab": {
          "base_uri": "https://localhost:8080/"
        },
        "id": "bl1ljgAEY4OZ",
        "outputId": "0ab9b86a-4549-4094-a4f7-452d1932e2dd"
      },
      "outputs": [
        {
          "output_type": "stream",
          "name": "stdout",
          "text": [
            "Inform a: 5000\n",
            "Inform b: 25\n",
            "200\n"
          ]
        }
      ],
      "source": [
        "# This algorithm performs integer division between a and b, b != 0.\n",
        "# That is, for a and b integers, find q such that a = qb + r, for some integer r such that 0 <= r < a.\n",
        "\n",
        "a = int(input('Inform a: '))\n",
        "b = int(input('Inform b: '))\n",
        "\n",
        "if b == 0:\n",
        "    print('Invalid operation.')\n",
        "\n",
        "else:\n",
        "\n",
        "    temporary = 0\n",
        "    quotient = 0\n",
        "    sign = 1 if a*b >=0 else -1\n",
        "    a = -a if a < 0 else a\n",
        "    b = -b if b < 0 else b\n",
        "\n",
        "    size_of_int = 64\n",
        "    max_bit = 0\n",
        "\n",
        "    for digit in range (0, size_of_int):\n",
        "\n",
        "        if b << digit > a:\n",
        "            break\n",
        "        max_bit = digit\n",
        "\n",
        "    #The solution is to greedily set the bits of the quotient q to 1\n",
        "    #from left to right, as long as q * b <= a.\n",
        "    for digit in range (max_bit, -1, -1):\n",
        "\n",
        "        if temporary + (b << digit) <= a:\n",
        "            temporary += b << digit\n",
        "            quotient |= 1 << digit\n",
        "\n",
        "    quotient *= sign\n",
        "    if a != quotient * b and a < 0:\n",
        "        quotient -= 1\n",
        "\n",
        "    print(f'{quotient}')\n",
        "\n"
      ]
    }
  ]
}
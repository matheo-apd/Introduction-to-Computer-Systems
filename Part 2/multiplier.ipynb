{
  "nbformat": 4,
  "nbformat_minor": 0,
  "metadata": {
    "colab": {
      "name": "multiplier.ipynb",
      "provenance": []
    },
    "kernelspec": {
      "name": "python3",
      "display_name": "Python 3"
    },
    "language_info": {
      "name": "python"
    }
  },
  "cells": [
    {
      "cell_type": "code",
      "execution_count": null,
      "metadata": {
        "colab": {
          "base_uri": "https://localhost:8080/"
        },
        "id": "88IvJHTA8g_n",
        "outputId": "2b9c6f28-46b4-4632-d24b-d3f5535af5f1"
      },
      "outputs": [
        {
          "output_type": "stream",
          "name": "stdout",
          "text": [
            "A x B = C\n",
            "Inform A: -1\n",
            "Inform B: 33\n",
            "C = -33\n"
          ]
        }
      ],
      "source": [
        "print('A x B = C')\n",
        "A = int(input('Inform A: '))\n",
        "B = int(input('Inform B: '))\n",
        "\n",
        "#'int' has 64 bits\n",
        "size_of_int = 64\n",
        "\n",
        "C = 0\n",
        "for digit in range (0, size_of_int-1):\n",
        "    C += A * ( (1 << digit) & B )\n",
        "\n",
        "print(f'C = {C}')"
      ]
    }
  ]
}
{
  "nbformat": 4,
  "nbformat_minor": 0,
  "metadata": {
    "colab": {
      "name": "multiplier.ipynb",
      "provenance": []
    },
    "kernelspec": {
      "name": "python3",
      "display_name": "Python 3"
    },
    "language_info": {
      "name": "python"
    }
  },
  "cells": [
    {
      "cell_type": "code",
      "execution_count": 13,
      "metadata": {
        "colab": {
          "base_uri": "https://localhost:8080/"
        },
        "id": "88IvJHTA8g_n",
        "outputId": "e4e617cd-80a6-42e1-bdc0-d4f6a4fab7ba"
      },
      "outputs": [
        {
          "output_type": "stream",
          "name": "stdout",
          "text": [
            "A x B = C\n",
            "Inform A: -2\n",
            "Inform B: 3\n",
            "C = -6\n"
          ]
        }
      ],
      "source": [
        "print('A x B = C')\n",
        "A = int(input('Inform A: '))\n",
        "B = int(input('Inform B: '))\n",
        "\n",
        "#'int' has 64 bits\n",
        "size_of_int = 64\n",
        "\n",
        "C = 0\n",
        "for digit in range (0, size_of_int-1):\n",
        "\n",
        "    #if the bit in the current digit is 1, then\n",
        "    #the mask is set to 111..1 (the neutral element of \"and\").\n",
        "    #otherwise, it will be 000..0.\n",
        "\n",
        "    mask = ~0 if (B & (1 << digit) != 0) else 0\n",
        "    C += (A << digit) & mask\n",
        "\n",
        "print(f'C = {C}')"
      ]
    }
  ]
}
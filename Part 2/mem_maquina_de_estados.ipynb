{
  "nbformat": 4,
  "nbformat_minor": 0,
  "metadata": {
    "colab": {
      "name": "Untitled1.ipynb",
      "provenance": []
    },
    "kernelspec": {
      "name": "python3",
      "display_name": "Python 3"
    },
    "language_info": {
      "name": "python"
    }
  },
  "cells": [
    {
      "cell_type": "code",
      "execution_count": null,
      "metadata": {
        "id": "NIMx1h2lFw0f"
      },
      "outputs": [],
      "source": [
        ""
      ]
    },
    {
      "cell_type": "markdown",
      "source": [
        "#**Máquina de Estados**"
      ],
      "metadata": {
        "id": "xuNsS65FGUy6"
      }
    },
    {
      "cell_type": "code",
      "source": [
        "def controle(estado, botao, sensor_porta):\n",
        "  \n",
        "  #Lógica de transição\n",
        "\n",
        "  if estado == 0 and botao == 1:\n",
        "      estado = 1\n",
        "\n",
        "  elif estado == 1 and sensor_porta == 1:\n",
        "      estado = 2\n",
        "\n",
        "  elif estado == 2 and botao == 1:\n",
        "      estado = 0\n",
        "\n",
        "#Lógica de ação\n",
        "\n",
        "  if estado == 0:\n",
        "    buzina = 0\n",
        "    luz_vermelha = 0\n",
        "\n",
        "  if estado == 1:\n",
        "    buzina = 0\n",
        "    luz_vermelha = 1\n",
        "\n",
        "  if estado == 2:\n",
        "    buzina = 1\n",
        "    luz_vermelha = 1\n",
        "    \n",
        "  if estado == 3:\n",
        "    buzina = 0\n",
        "    luz_vermelha = 0\n",
        "\n",
        "  return estado, buzina, luz_vermelha"
      ],
      "metadata": {
        "id": "KqcNVzzUdX20"
      },
      "execution_count": null,
      "outputs": []
    }
  ]
}